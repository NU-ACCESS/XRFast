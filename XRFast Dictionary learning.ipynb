{
 "cells": [
  {
   "cell_type": "markdown",
   "metadata": {},
   "source": [
    "## Based on the following paper: \n",
    "## XRFast a New Software Package for Processing of MA-XRF Datasets using Machine Leaning\n",
    "\n",
    "Marc Vermeulen$^{1}$, Alicia McGeachy$^{1}$, Bingjie Xu$^{1}$, Henry Chopp$^{2}$, Aggelos Kataggelos$^{2}$, Rebecca Meyers$^{3}$, Matthias Alfeld$^{4}$, and Marc Walton$^{5,a,*}$\n",
    "\n",
    "$^{1}$ Northwestern University / Art Institute of Chicago Center for Scientific Studies in the Arts (NU-ACCESS), 2145 Sheridan Road, Evanston, IL, United States\n",
    "\n",
    "$^{2}$ Department of ECE, Northwestern University, Evanston, IL, United States\n",
    "\n",
    "$^{3}$ National Museum of Mexican Art, 1852 W. 19th street, Chicago, IL, United States\n",
    "\n",
    "$^{4}$ Delft University of Technology, Department of Materials Science and Engineering (MSE), 2628 CN Delft, Netherlands.\n",
    "\n",
    "$^{5}$ M+, 38 Museum Drive, West Kowloon Cultural District, Hong Kong\n",
    "\n",
    "$^{a}$ formerly: NU-ACCESS\n",
    "\n",
    "$^{*}$ Corresponding author: marc.walton@mplus.org.hk"
   ]
  },
  {
   "cell_type": "code",
   "execution_count": 1,
   "metadata": {},
   "outputs": [],
   "source": [
    "using XRFast\n",
    "using DelimitedFiles \n",
    "using HDF5\n",
    "using Gtk\n",
    "using Statistics\n",
    "using DelimitedFiles\n",
    "using GLMakie"
   ]
  },
  {
   "cell_type": "markdown",
   "metadata": {},
   "source": [
    "### Import XRF data and transform in appropriate format\n",
    "Ideally, the format should be HDF5 but can also be ascii, tiff, etc.<br>\n",
    "\n",
    "><ins>User input</ins>: Select the XRF file in cell 1. Run all other cells"
   ]
  },
  {
   "cell_type": "code",
   "execution_count": 2,
   "metadata": {},
   "outputs": [
    {
     "data": {
      "text/plain": [
       "\"/Users/homelyp/Desktop/Thoma_2002_6_fullscan_shift.HDF5\""
      ]
     },
     "execution_count": 2,
     "metadata": {},
     "output_type": "execute_result"
    }
   ],
   "source": [
    "filename = open_dialog(\"My Open dialog\")"
   ]
  },
  {
   "cell_type": "code",
   "execution_count": 3,
   "metadata": {},
   "outputs": [
    {
     "data": {
      "text/plain": [
       "\"/Users/homelyp/Desktop/Thoma_2002_6_fullscan_shift\""
      ]
     },
     "execution_count": 3,
     "metadata": {},
     "output_type": "execute_result"
    }
   ],
   "source": [
    "root=splitext(filename)[1]"
   ]
  },
  {
   "cell_type": "code",
   "execution_count": 4,
   "metadata": {},
   "outputs": [],
   "source": [
    "XRF = h5read(filename, \"XRF\")\n",
    "XRF_spectra = XRF[\"Spectra\"];"
   ]
  },
  {
   "cell_type": "code",
   "execution_count": 5,
   "metadata": {},
   "outputs": [
    {
     "data": {
      "text/plain": [
       "(4096, 544, 412)"
      ]
     },
     "execution_count": 5,
     "metadata": {},
     "output_type": "execute_result"
    }
   ],
   "source": [
    "size(XRF_spectra)"
   ]
  },
  {
   "cell_type": "markdown",
   "metadata": {},
   "source": [
    "Flatten data into vector, \"d\""
   ]
  },
  {
   "cell_type": "code",
   "execution_count": 6,
   "metadata": {},
   "outputs": [],
   "source": [
    "d = reshape(XRF_spectra, size(XRF_spectra)[1], size(XRF_spectra)[2]*size(XRF_spectra)[3])\n",
    "d = Float64.(d);"
   ]
  },
  {
   "cell_type": "markdown",
   "metadata": {},
   "source": [
    "### Select desired number of endmembers (\"atoms\") from LLS transformed data and create initial dictionary \n",
    "The default value for the number of atoms is set at 20.\n",
    "\n",
    "><ins>User input</ins>: Input the desired number of atoms (always better to over-estimate the number of atoms) <br> Default value is set to <b>20</b>."
   ]
  },
  {
   "cell_type": "code",
   "execution_count": 7,
   "metadata": {},
   "outputs": [
    {
     "name": "stdout",
     "output_type": "stream",
     "text": [
      "  0.075478 seconds (194.48 k allocations: 14.243 MiB, 97.61% compilation time)\n"
     ]
    }
   ],
   "source": [
    "Atoms_number = 20\n",
    "@time D = initial_dictionary(d',\n",
    "    Atoms = Atoms_number);"
   ]
  },
  {
   "cell_type": "markdown",
   "metadata": {},
   "source": [
    "### Perform dictionary learning to recover D\n",
    "\n",
    "In this step, with each iteration a random 5% selection of A is used to optimize D.\n",
    "\n",
    "><ins>User input</ins>: Select the number of iterations spent in outer loop (no_It_Sub) and the sparsity level (sparsity). <br> Default values are set to <b>30</b> for the \"no_It_Sub\" and <b>0.85</b> for the \"sparsity\".\n"
   ]
  },
  {
   "cell_type": "code",
   "execution_count": 8,
   "metadata": {},
   "outputs": [
    {
     "data": {
      "text/plain": [
       "0.85"
      ]
     },
     "execution_count": 8,
     "metadata": {},
     "output_type": "execute_result"
    }
   ],
   "source": [
    "no_It_Sub = 30\n",
    "sparsity = 0.85"
   ]
  },
  {
   "cell_type": "code",
   "execution_count": 9,
   "metadata": {},
   "outputs": [
    {
     "name": "stderr",
     "output_type": "stream",
     "text": [
      "\u001b[32mOptimizing Dictionary...100%|███████████████████████████| Time: 0:10:04\u001b[39m\n"
     ]
    },
    {
     "name": "stdout",
     "output_type": "stream",
     "text": [
      "613.157247 seconds (81.07 M allocations: 439.250 GiB, 8.96% gc time, 1.56% compilation time)\n"
     ]
    }
   ],
   "source": [
    "@time D = approx_nn_dictionary_learning(D, #initial dictionary\n",
    "    d', #observations\n",
    "    noIt_Sub = no_It_Sub, #iterations spent in outer loop, subsampling matrix L by 5%\n",
    "    Lambda = sparsity, #Sparsity \"level\". Returns weights above a quantile (e.g., 0.5 = weights above the median value)\n",
    "    );"
   ]
  },
  {
   "cell_type": "markdown",
   "metadata": {},
   "source": [
    "### Find $x$ for whole dataset"
   ]
  },
  {
   "cell_type": "code",
   "execution_count": 10,
   "metadata": {},
   "outputs": [
    {
     "name": "stdout",
     "output_type": "stream",
     "text": [
      "291.488616 seconds (33.59 M allocations: 166.005 GiB, 1.33% gc time)\n"
     ]
    }
   ],
   "source": [
    "@time X_Sparse = nnls(d, D, sparsity);"
   ]
  },
  {
   "cell_type": "markdown",
   "metadata": {},
   "source": [
    "### Calculate Denoised Cube"
   ]
  },
  {
   "cell_type": "code",
   "execution_count": 11,
   "metadata": {},
   "outputs": [],
   "source": [
    "Denoised = D*X_Sparse;"
   ]
  },
  {
   "cell_type": "markdown",
   "metadata": {},
   "source": [
    "### Calulate similarity between spectra\n",
    "The mean spectra of the output clusters along with the associated standard deviations (SD) per channel are then compared to make sure that the clusters are unique and does not require merging. Uniqueness is defined to be a difference in at least one channel that exceeds 3 SD."
   ]
  },
  {
   "cell_type": "code",
   "execution_count": 12,
   "metadata": {},
   "outputs": [],
   "source": [
    "D_mean = mean(D, dims=2);\n",
    "D_std = std(D, dims=2);\n",
    "D_similarity = abs.(D .- D_mean) .- 3 * D_std;\n",
    "D_maxs = findmax(D_similarity, dims = 1);"
   ]
  },
  {
   "cell_type": "markdown",
   "metadata": {},
   "source": [
    "### Interactive Plot\n",
    "It will open in a <i>Makie</i> pop-up window <br>\n",
    "\n",
    "<ins>Left:</ins> Atom's XRF spectrum. <br> <ins>Middle:</ins> Atom's sparse representation. <br> <ins>Right:</ins> Uniqueness index. Larger values indicate uniqueness of the atom."
   ]
  },
  {
   "cell_type": "code",
   "execution_count": 13,
   "metadata": {},
   "outputs": [
    {
     "data": {
      "text/plain": [
       "GLMakie.Screen(...)"
      ]
     },
     "execution_count": 13,
     "metadata": {},
     "output_type": "execute_result"
    }
   ],
   "source": [
    "fig = Figure()\n",
    "\n",
    "ax1 = Axis(fig[1, 1])\n",
    "ax2 = Axis(fig[1, 2])\n",
    "ax3 = Axis(fig[1, 3])\n",
    "\n",
    "sl_n = Slider(fig[2, 1], range = 1: Atoms_number, startvalue = 1) # all n numbers in slider\n",
    "\n",
    "labeltext = lift(sl_n.value) do n\n",
    "    string(Int(n))\n",
    "end\n",
    "Label(fig[2, 1], labeltext, tellwidth = false)\n",
    "\n",
    "# Plot D (spectrums)\n",
    "\n",
    "d = lift(sl_n.value) do n # change spectrum for each n\n",
    "   D[:, n]\n",
    "end\n",
    "\n",
    "channels = range(1, size(XRF_spectra)[1], length=size(XRF_spectra)[1])\n",
    "\n",
    "limits!(ax1, 1, size(XRF_spectra)[1], 0, maximum(D)) # axes limit\n",
    "lines!(ax1, channels, d)\n",
    "\n",
    "# PLot X_Sparse\n",
    "\n",
    "xs = lift(sl_n.value) do n\n",
    "   reshape(X_Sparse[n, :], size(XRF_spectra)[2], size(XRF_spectra)[3])\n",
    "end\n",
    "\n",
    "heatmap!(ax2, xs)\n",
    "\n",
    "# Plot similarity for all spectrums\n",
    "\n",
    "N = range(1, Atoms_number, length=Atoms_number) # total n number\n",
    "\n",
    "Similarity = lift(sl_n.value) do n\n",
    "    barplot!(ax3, N, D_maxs[1][:], width = step(N), strokewidth = 1, color = ifelse.(1:Atoms_number .== n, :red, :blue))\n",
    "end\n",
    "\n",
    "display(fig)"
   ]
  },
  {
   "cell_type": "markdown",
   "metadata": {},
   "source": [
    "### Save Sparse Representation Images\n",
    "Save the sparse representation images (distribution maps) as .csv \"text images\". <br> \n",
    "<ul>\n",
    "<li>The file will be saved in the same folder as the original datafile.</li>\n",
    "    <li>The naming will include the number of iterations spent in outer loop (no_It_Sub) and the sparsity level (sparsity) defined previously, as well as the size of the original data cube, required to recreate the image.</li>\n",
    "</ul>\n",
    "\n",
    "Images can be recreated in by following the following steps: <br> \n",
    "<ol>\n",
    "    <li><b>Import data</b>: File/Import/text Image...<br>\n",
    "    <i>Select the desired .csv file</i></li>\n",
    "    <li><b>Create a stack</b>: Image/Stacks/Tools/Montage to Stack...<br>\n",
    "    <ins>Columns</ins>: last number of the filename, before the .csv <br>\n",
    "    <ins>Rows</ins>: 1 <br>\n",
    "    <ins>Border width</ins>: 0</li>\n",
    "    <li><b>Transform compressed stack into stack of images</b>: Image/Stacks/Reslice[/]... (or Shortcut Stk/Reslice[/]...) on the <i>Stack</i> window created</li>\n",
    "    <ins>Output spacing (pixels)</ins>: 1.000 <br>\n",
    "    <ins>Start at</ins>: Top <br>\n",
    "    <ins>Avoid interoplation</ins> should be checked <br>\n",
    "    <i>Flip vertically</i> and <i>Rotate 90 degrees</i> can be checked or unchecked depending on the orientation of the original data. \n",
    "    <li><b>Save as a set of individual images</b>: File/Save As/Image Sequence... <br>\n",
    "     <ins>Dir.</ins>: Select the folder where images will be saved <br>\n",
    "        <ins>Format</ins>: select the desired format (TIFF is the default option) <br>\n",
    "        <ins>Name</ins>: Indicate the root name of the images + EM (for endmember, recommended)<br>\n",
    "        <ins>Start at</ins>: Indicate 1 (this correspond to the first endmember, which is the first slice)<br>\n",
    "        <ins>Digits (1-8)</ins>: we recommend 2. This will save each image as EM01, EM02, [...] EM20).\n",
    "</ol>"
   ]
  },
  {
   "cell_type": "code",
   "execution_count": 15,
   "metadata": {},
   "outputs": [
    {
     "data": {
      "text/plain": [
       "\"C:\\\\Users\\\\marcv\\\\Desktop\\\\Thoma_2002_6_fullscan_shift_Sparse1_OuterLoop_30_Lambda_0.85_544x412.csv\""
      ]
     },
     "execution_count": 15,
     "metadata": {},
     "output_type": "execute_result"
    }
   ],
   "source": [
    "file2save=string(root,\"_Sparse1\",\"_OuterLoop_\",no_It_Sub,\"_Lambda_\",sparsity,\"_\",size(XRF_spectra)[2],\"x\",size(XRF_spectra)[3],\".csv\")"
   ]
  },
  {
   "cell_type": "code",
   "execution_count": 16,
   "metadata": {},
   "outputs": [],
   "source": [
    "writedlm(file2save,  X_Sparse, ',')"
   ]
  },
  {
   "cell_type": "markdown",
   "metadata": {},
   "source": [
    "### Save XRF spectra associated with the the sparse representation images\n",
    "XRF spectra can be recreated using Excel or any other spreadsheet/data analysis software (Origin, Igor, etc...) <br> \n",
    "<ul>\n",
    "<li>The file will be saved in the same folder as the original datafile and Sparse representation .csv file.</li>\n",
    "    <li>The naming will include the number of iterations spent in outer loop (no_It_Sub) and the sparsity level (sparsity) defined previously.</li>\n",
    "</ul>"
   ]
  },
  {
   "cell_type": "code",
   "execution_count": 17,
   "metadata": {},
   "outputs": [
    {
     "data": {
      "text/plain": [
       "\"C:\\\\Users\\\\marcv\\\\Desktop\\\\Thoma_2002_6_fullscan_shift_Spectra_OuterLoop_30_Lambda_0.85.csv\""
      ]
     },
     "execution_count": 17,
     "metadata": {},
     "output_type": "execute_result"
    }
   ],
   "source": [
    "file2save2=string(root,\"_Spectra_OuterLoop_\",no_It_Sub,\"_Lambda_\",sparsity,\".csv\")"
   ]
  },
  {
   "cell_type": "code",
   "execution_count": 18,
   "metadata": {},
   "outputs": [],
   "source": [
    "writedlm(file2save2, D, ',')"
   ]
  },
  {
   "cell_type": "code",
   "execution_count": null,
   "metadata": {},
   "outputs": [],
   "source": []
  }
 ],
 "metadata": {
  "@webio": {
   "lastCommId": null,
   "lastKernelId": null
  },
  "kernelspec": {
   "display_name": "Julia 1.6.3",
   "language": "julia",
   "name": "julia-1.6"
  },
  "language_info": {
   "file_extension": ".jl",
   "mimetype": "application/julia",
   "name": "julia",
   "version": "1.6.3"
  }
 },
 "nbformat": 4,
 "nbformat_minor": 4
}
